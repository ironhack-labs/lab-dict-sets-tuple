{
 "cells": [
  {
   "cell_type": "markdown",
   "metadata": {},
   "source": [
    "## Challenge 1: Tuples\n",
    "\n",
    "#### Do you know you can create tuples with only one element?\n",
    "\n",
    "**In the cell below, define a variable `tup` with a single element `\"I\"`.**\n"
   ]
  },
  {
   "cell_type": "code",
   "execution_count": 2,
   "metadata": {},
   "outputs": [],
   "source": [
    "# Your code here\n",
    "tup:tuple = tuple(\"I\")"
   ]
  },
  {
   "cell_type": "markdown",
   "metadata": {},
   "source": [
    "#### Print the type of `tup`. \n",
    "\n",
    "Make sure its type is correct (i.e. *tuple* instead of *str*)."
   ]
  },
  {
   "cell_type": "code",
   "execution_count": 3,
   "metadata": {},
   "outputs": [
    {
     "name": "stdout",
     "output_type": "stream",
     "text": [
      "<class 'tuple'>\n"
     ]
    }
   ],
   "source": [
    "# Your code here\n",
    "print(type(tup))"
   ]
  },
  {
   "cell_type": "markdown",
   "metadata": {},
   "source": [
    "#### Now try to append the following elements to `tup`. \n",
    "\n",
    "Are you able to do it? Explain.\n",
    "\n",
    "```\n",
    "\"r\", \"o\", \"n\", \"h\", \"a\", \"c\", \"k',\n",
    "```"
   ]
  },
  {
   "cell_type": "code",
   "execution_count": 4,
   "metadata": {
    "scrolled": true
   },
   "outputs": [
    {
     "name": "stdout",
     "output_type": "stream",
     "text": [
      "('I', 'r', 'o', 'n', 'h', 'a', 'c', 'k')\n"
     ]
    }
   ],
   "source": [
    "# Your code here\n",
    "tuple_list = list(tup)\n",
    "tuple_list.extend(['r', 'o', 'n', 'h', 'a', 'c', 'k'])\n",
    "tup = tuple(tuple_list)\n",
    "print(tup)\n",
    "# Your explanation here\n",
    "# We casted the tuple into a list in order to add the elements. After adding them, we cast it back to tuple\n",
    "# You can :) "
   ]
  },
  {
   "cell_type": "markdown",
   "metadata": {},
   "source": [
    "#### How about re-assign a new value to an existing tuple?\n",
    "\n",
    "Re-assign the following elements to `tup`. Are you able to do it? Explain.\n",
    "\n",
    "```\n",
    "\"I\", \"r\", \"o\", \"n\", \"h\", \"a\", \"c\", \"k\"\n",
    "```"
   ]
  },
  {
   "cell_type": "code",
   "execution_count": 5,
   "metadata": {},
   "outputs": [],
   "source": [
    "# Your code here\n",
    "tup = (\"I\", \"r\", \"o\", \"n\", \"h\", \"a\", \"c\", \"k\")"
   ]
  },
  {
   "cell_type": "markdown",
   "metadata": {},
   "source": [
    "#### Split `tup` into `tup1` and `tup2` with 4 elements in each. \n",
    "\n",
    "`tup1` should be `(\"I\", \"r\", \"o\", \"n\")` and `tup2` should be `(\"h\", \"a\", \"c\", \"k\")`.\n",
    "\n",
    "*Hint: use positive index numbers for `tup1` assignment and use negative index numbers for `tup2` assignment. Positive index numbers count from the beginning whereas negative index numbers count from the end of the sequence.*\n",
    "\n",
    "Also print `tup1` and `tup2`."
   ]
  },
  {
   "cell_type": "code",
   "execution_count": 6,
   "metadata": {},
   "outputs": [
    {
     "name": "stdout",
     "output_type": "stream",
     "text": [
      "('I', 'r', 'o', 'n')\n",
      "('h', 'a', 'c', 'k')\n"
     ]
    }
   ],
   "source": [
    "# Your code here\n",
    "tup1 = (tup[0], tup[1], tup[2], tup[3])\n",
    "print(tup1)\n",
    "\n",
    "tup2 = (tup[-4], tup[-3], tup[-2], tup[-1])\n",
    "print(tup2)"
   ]
  },
  {
   "cell_type": "markdown",
   "metadata": {},
   "source": [
    "#### Add `tup1` and `tup2` into `tup3` using the `+` operator.\n",
    "\n",
    "Then print `tup3` and check if `tup3` equals to `tup`."
   ]
  },
  {
   "cell_type": "code",
   "execution_count": 7,
   "metadata": {},
   "outputs": [
    {
     "name": "stdout",
     "output_type": "stream",
     "text": [
      "tup3 is equal to tup (('I', 'r', 'o', 'n', 'h', 'a', 'c', 'k')==('I', 'r', 'o', 'n', 'h', 'a', 'c', 'k'))\n"
     ]
    }
   ],
   "source": [
    "# Your code here\n",
    "tup3 = tup1 + tup2\n",
    "\n",
    "if tup3==tup:\n",
    "    print(f\"tup3 is equal to tup ({tup3}=={tup})\")\n",
    "else:\n",
    "    print(f\"tup3 is not equal to tup ({tup3}!={tup})\")"
   ]
  },
  {
   "cell_type": "markdown",
   "metadata": {},
   "source": [
    "#### Count the number of elements in `tup1` and `tup2`. Then add the two counts together and check if the sum is the same as the number of elements in `tup3`."
   ]
  },
  {
   "cell_type": "code",
   "execution_count": 10,
   "metadata": {},
   "outputs": [
    {
     "name": "stdout",
     "output_type": "stream",
     "text": [
      "The sum of the lengths of tup1 and tup2 is equal to tup3\n"
     ]
    }
   ],
   "source": [
    "# Your code here\n",
    "if len(tup1)+len(tup2)==len(tup3):\n",
    "    print(f\"The sum of the lengths of tup1 and tup2 is equal to tup3\")\n",
    "else:\n",
    "    print(f\"The sum of the lengths of tup1 and tup2 is not equal to tup3\")"
   ]
  },
  {
   "cell_type": "markdown",
   "metadata": {},
   "source": [
    "#### What is the index number of `\"h\"` in `tup3`?"
   ]
  },
  {
   "cell_type": "code",
   "execution_count": 11,
   "metadata": {},
   "outputs": [
    {
     "name": "stdout",
     "output_type": "stream",
     "text": [
      "4\n"
     ]
    }
   ],
   "source": [
    "# Your code here\n",
    "print(tup3.index('h'))"
   ]
  },
  {
   "cell_type": "markdown",
   "metadata": {},
   "source": [
    "#### Now, use a FOR loop to check whether each letter in the following list is present in `tup3`:\n",
    "\n",
    "```\n",
    "letters = [\"a\", \"b\", \"c\", \"d\", \"e\"]\n",
    "```\n",
    "\n",
    "For each letter you check, print `True` if it is present in `tup3` otherwise print `False`.\n",
    "\n",
    "*Hint: you only need to loop `letters`. You don't need to loop `tup3` because there is a Python operator `in` you can use. See [reference](https://stackoverflow.com/questions/17920147/how-to-check-if-a-tuple-contains-an-element-in-python).*"
   ]
  },
  {
   "cell_type": "code",
   "execution_count": 12,
   "metadata": {},
   "outputs": [
    {
     "name": "stdout",
     "output_type": "stream",
     "text": [
      "Character a is in tup3 - True\n",
      "Character b is not in tup3 - False\n",
      "Character c is in tup3 - True\n",
      "Character d is not in tup3 - False\n",
      "Character e is not in tup3 - False\n"
     ]
    }
   ],
   "source": [
    "# Your code here\n",
    "letters = [\"a\", \"b\", \"c\", \"d\", \"e\"]\n",
    "for character in letters:\n",
    "    if character in tup3:\n",
    "        print(f\"Character {character} is in tup3 - True\")\n",
    "    else:\n",
    "        print(f\"Character {character} is not in tup3 - False\")"
   ]
  },
  {
   "cell_type": "markdown",
   "metadata": {},
   "source": [
    "#### How many times does each letter in `letters` appear in `tup3`?\n",
    "\n",
    "Print out the number of occurrence of each letter."
   ]
  },
  {
   "cell_type": "code",
   "execution_count": 13,
   "metadata": {},
   "outputs": [
    {
     "name": "stdout",
     "output_type": "stream",
     "text": [
      "Character a appears 1 time(s)\n",
      "Character b appears 0 time(s)\n",
      "Character c appears 1 time(s)\n",
      "Character d appears 0 time(s)\n",
      "Character e appears 0 time(s)\n"
     ]
    }
   ],
   "source": [
    "# Your code here\n",
    "for character in letters:\n",
    "    print(f\"Character {character} appears {tup3.count(character)} time(s)\")"
   ]
  },
  {
   "cell_type": "markdown",
   "metadata": {},
   "source": [
    "## Challenge 2: Sets\n",
    "\n",
    "There are a lot to learn about Python Sets and the information presented in the lesson is limited due to its length. To learn Python Sets in depth you are strongly encouraged to review the W3Schools tutorial on [Python Sets Examples and Methods](https://www.w3schools.com/python/python_sets.asp) before you work on this lab. Some difficult questions in this lab have their solutions in the W3Schools tutorial.\n",
    "\n",
    "#### First, import the Python `random` library."
   ]
  },
  {
   "cell_type": "code",
   "execution_count": 14,
   "metadata": {},
   "outputs": [],
   "source": [
    "import random"
   ]
  },
  {
   "cell_type": "markdown",
   "metadata": {},
   "source": [
    "#### In the cell below, create a list named `sample_list_1` with 80 random values. \n",
    "\n",
    "Requirements:\n",
    "\n",
    "* Each value is an integer falling between 0 and 100.\n",
    "* Each value in the list is unique.\n",
    "\n",
    "Print `sample_list_1` to review its values\n",
    "\n",
    "*Hint: use `random.sample` ([reference](https://docs.python.org/3/library/random.html#random.sample)).*"
   ]
  },
  {
   "cell_type": "code",
   "execution_count": 15,
   "metadata": {},
   "outputs": [
    {
     "name": "stdout",
     "output_type": "stream",
     "text": [
      "[76, 4, 77, 59, 7, 69, 95, 40, 0, 31, 39, 11, 88, 47, 22, 70, 85, 91, 16, 43, 92, 38, 67, 41, 60, 33, 45, 80, 58, 89, 24, 3, 30, 66, 72, 15, 97, 51, 10, 78, 93, 5, 27, 83, 65, 18, 6, 32, 68, 62, 25, 56, 49, 53, 35, 13, 79, 19, 81, 50, 52, 61, 82, 28, 87, 8, 2, 64, 48, 75, 1, 20, 54, 37, 98, 46, 9, 84, 44, 73]\n"
     ]
    }
   ],
   "source": [
    "# Your code here\n",
    "sample_list_1 = random.sample(range(0, 100),80)\n",
    "\n",
    "print(sample_list_1)"
   ]
  },
  {
   "cell_type": "markdown",
   "metadata": {},
   "source": [
    "#### Convert `sample_list_1` to a set called `set1`. Print the length of the set. Is its length still 80?"
   ]
  },
  {
   "cell_type": "code",
   "execution_count": 16,
   "metadata": {},
   "outputs": [
    {
     "name": "stdout",
     "output_type": "stream",
     "text": [
      "set1 has the same length as sample_list_1\n"
     ]
    }
   ],
   "source": [
    "# your code here\n",
    "set1 = set(sample_list_1)\n",
    "if len(set1)==len(sample_list_1):\n",
    "    print(f\"set1 has the same length as sample_list_1\")\n",
    "else:\n",
    "    print(f\"set1 doesn't have the same length as sample_list_1\")"
   ]
  },
  {
   "cell_type": "markdown",
   "metadata": {},
   "source": [
    "#### Create another list named `sample_list_2` with 80 random values.\n",
    "\n",
    "Requirements:\n",
    "\n",
    "* Each value is an integer falling between 0 and 100.\n",
    "* The values in the list don't have to be unique.\n",
    "\n",
    "*Hint: Use a FOR loop.*"
   ]
  },
  {
   "cell_type": "code",
   "execution_count": 17,
   "metadata": {},
   "outputs": [],
   "source": [
    "# your code here\n",
    "sample_list_2 = []\n",
    "for i in range(0, 80):\n",
    "    sample_list_2.append(random.randrange(0, 100))"
   ]
  },
  {
   "cell_type": "markdown",
   "metadata": {},
   "source": [
    "#### Convert `sample_list_2` to a set called `set2`. Print the length of the set. Is its length still 80?"
   ]
  },
  {
   "cell_type": "code",
   "execution_count": 18,
   "metadata": {},
   "outputs": [
    {
     "name": "stdout",
     "output_type": "stream",
     "text": [
      "set2 doesn't have the same length as sample_list_2\n"
     ]
    }
   ],
   "source": [
    "# Your code here\n",
    "set2 = set(sample_list_2)\n",
    "if len(set2)==len(sample_list_2):\n",
    "    print(f\"set2 has the same length as sample_list_2\")\n",
    "else:\n",
    "    print(f\"set2 doesn't have the same length as sample_list_2\")"
   ]
  },
  {
   "cell_type": "markdown",
   "metadata": {},
   "source": [
    "#### Identify the elements present in `set1` but not in `set2`. Assign the elements to a new set named `set3`."
   ]
  },
  {
   "cell_type": "code",
   "execution_count": 19,
   "metadata": {},
   "outputs": [],
   "source": [
    "# Your code here\n",
    "set3 = set1 - set2"
   ]
  },
  {
   "cell_type": "markdown",
   "metadata": {},
   "source": [
    "#### Identify the elements present in `set2` but not in `set1`. Assign the elements to a new set named `set4`."
   ]
  },
  {
   "cell_type": "code",
   "execution_count": 20,
   "metadata": {},
   "outputs": [],
   "source": [
    "# Your code here\n",
    "set4 = set2 - set1"
   ]
  },
  {
   "cell_type": "markdown",
   "metadata": {},
   "source": [
    "#### Now Identify the elements shared between `set1` and `set2`. Assign the elements to a new set named `set5`."
   ]
  },
  {
   "cell_type": "code",
   "execution_count": 21,
   "metadata": {},
   "outputs": [],
   "source": [
    "# Your code here\n",
    "set5 = set1 & set2"
   ]
  },
  {
   "cell_type": "markdown",
   "metadata": {},
   "source": [
    "#### What is the relationship among the following values:\n",
    "\n",
    "* len(set1)\n",
    "* len(set2)\n",
    "* len(set3)\n",
    "* len(set4)\n",
    "* len(set5)\n",
    "\n",
    "Use a math formular to represent that relationship. Test your formular with Python code."
   ]
  },
  {
   "cell_type": "code",
   "execution_count": 22,
   "metadata": {},
   "outputs": [
    {
     "name": "stdout",
     "output_type": "stream",
     "text": [
      "set1 has 80 elements\n",
      "set2 has 59 elements\n",
      "set1 has 33 elements which are not in set2\n",
      "set2 has 12 elements which are not in set1\n",
      "set1 and set2 have 47 elements in common\n",
      "set1 + set2 = set3 + set4 + set5 x 2 => 80 + 59 = 33 + 12 + 47 x 2 => 139 = 139\n"
     ]
    }
   ],
   "source": [
    "# Your code here\n",
    "print(f\"set1 has {len(set1)} elements\")\n",
    "print(f\"set2 has {len(set2)} elements\")\n",
    "\n",
    "# set3 = set1 - set2\n",
    "print(f\"set1 has {len(set3)} elements which are not in set2\")\n",
    "\n",
    "# set4 = set2 - set1\n",
    "print(f\"set2 has {len(set4)} elements which are not in set1\")\n",
    "\n",
    "# set5 = set1 & set2\n",
    "print(f\"set1 and set2 have {len(set5)} elements in common\")\n",
    "\n",
    "print(f\"set1 + set2 = set3 + set4 + set5 x 2 => {len(set1)} + {len(set2)} = {len(set3)} + {len(set4)} + {len(set5)} x 2 => {len(set1) + len(set2)} = {len(set3) + len(set4) + 2*len(set5)}\")"
   ]
  },
  {
   "cell_type": "markdown",
   "metadata": {},
   "source": [
    "#### Create an empty set called `set6`."
   ]
  },
  {
   "cell_type": "code",
   "execution_count": 23,
   "metadata": {},
   "outputs": [],
   "source": [
    "# Your code here\n",
    "set6 = set()"
   ]
  },
  {
   "cell_type": "markdown",
   "metadata": {},
   "source": [
    "#### Add `set3` and `set5` to `set6` using the Python Set `update` method."
   ]
  },
  {
   "cell_type": "code",
   "execution_count": 24,
   "metadata": {},
   "outputs": [
    {
     "name": "stdout",
     "output_type": "stream",
     "text": [
      "{0, 1, 2, 3, 4, 5, 6, 7, 8, 9, 10, 11, 13, 15, 16, 18, 19, 20, 22, 24, 25, 27, 28, 30, 31, 32, 33, 35, 37, 38, 39, 40, 41, 43, 44, 45, 46, 47, 48, 49, 50, 51, 52, 53, 54, 56, 58, 59, 60, 61, 62, 64, 65, 66, 67, 68, 69, 70, 72, 73, 75, 76, 77, 78, 79, 80, 81, 82, 83, 84, 85, 87, 88, 89, 91, 92, 93, 95, 97, 98}\n"
     ]
    }
   ],
   "source": [
    "# Your code here\n",
    "set6.update(set3)\n",
    "set6.update(set5)\n",
    "\n",
    "print(set6)"
   ]
  },
  {
   "cell_type": "markdown",
   "metadata": {},
   "source": [
    "#### Check if `set1` and `set6` are equal."
   ]
  },
  {
   "cell_type": "code",
   "execution_count": 25,
   "metadata": {},
   "outputs": [
    {
     "name": "stdout",
     "output_type": "stream",
     "text": [
      "set1 and set6 are equal\n"
     ]
    }
   ],
   "source": [
    "# Your code here\n",
    "if set1==set6:\n",
    "    print(f'set1 and set6 are equal')\n",
    "else:\n",
    "    print(f'set1 and set6 are not equal')"
   ]
  },
  {
   "cell_type": "markdown",
   "metadata": {},
   "source": [
    "#### Check if `set1` contains `set2` using the Python Set `issubset` method. Then check if `set1` contains `set3`.*"
   ]
  },
  {
   "cell_type": "code",
   "execution_count": 26,
   "metadata": {},
   "outputs": [
    {
     "name": "stdout",
     "output_type": "stream",
     "text": [
      "set2 is not a subset of set1\n",
      "set3 is a subset of set1\n"
     ]
    }
   ],
   "source": [
    "# Your code here\n",
    "if set2.issubset(set1):\n",
    "    print('set2 is a subset of set1')\n",
    "else:\n",
    "    print('set2 is not a subset of set1')\n",
    "\n",
    "if set3.issubset(set1):\n",
    "    print('set3 is a subset of set1')\n",
    "else:\n",
    "    print('set3 is not a subset of set1')"
   ]
  },
  {
   "cell_type": "markdown",
   "metadata": {},
   "source": [
    "#### Using the Python Set `union` method, aggregate `set3`, `set4`, and `set5`. Then aggregate `set1` and `set2`. \n",
    "\n",
    "#### Check if the aggregated values are equal."
   ]
  },
  {
   "cell_type": "code",
   "execution_count": 27,
   "metadata": {},
   "outputs": [
    {
     "name": "stdout",
     "output_type": "stream",
     "text": [
      "set3 ∪ set4 ∪ set5 = set1 ∪ set2\n"
     ]
    }
   ],
   "source": [
    "# Your code here\n",
    "set345 = set3 | set4 | set5\n",
    "set12 = set1 | set2\n",
    "\n",
    "if set345==set12:\n",
    "    print(\"set3 ∪ set4 ∪ set5 = set1 ∪ set2\")\n",
    "else:\n",
    "    print(\"set3 ∪ set4 ∪ set5 != set1 ∪ set2\")"
   ]
  },
  {
   "cell_type": "markdown",
   "metadata": {},
   "source": [
    "#### Using the `pop` method, remove the first element from `set1`."
   ]
  },
  {
   "cell_type": "code",
   "execution_count": 28,
   "metadata": {},
   "outputs": [
    {
     "name": "stdout",
     "output_type": "stream",
     "text": [
      "Before removal, set1 is: {0, 1, 2, 3, 4, 5, 6, 7, 8, 9, 10, 11, 13, 15, 16, 18, 19, 20, 22, 24, 25, 27, 28, 30, 31, 32, 33, 35, 37, 38, 39, 40, 41, 43, 44, 45, 46, 47, 48, 49, 50, 51, 52, 53, 54, 56, 58, 59, 60, 61, 62, 64, 65, 66, 67, 68, 69, 70, 72, 73, 75, 76, 77, 78, 79, 80, 81, 82, 83, 84, 85, 87, 88, 89, 91, 92, 93, 95, 97, 98}\n",
      "After removal, set1 is: {1, 2, 3, 4, 5, 6, 7, 8, 9, 10, 11, 13, 15, 16, 18, 19, 20, 22, 24, 25, 27, 28, 30, 31, 32, 33, 35, 37, 38, 39, 40, 41, 43, 44, 45, 46, 47, 48, 49, 50, 51, 52, 53, 54, 56, 58, 59, 60, 61, 62, 64, 65, 66, 67, 68, 69, 70, 72, 73, 75, 76, 77, 78, 79, 80, 81, 82, 83, 84, 85, 87, 88, 89, 91, 92, 93, 95, 97, 98}\n"
     ]
    }
   ],
   "source": [
    "# Your code here\n",
    "print(f\"Before removal, set1 is: {set1}\")\n",
    "set1.pop()\n",
    "print(f\"After removal, set1 is: {set1}\")"
   ]
  },
  {
   "cell_type": "markdown",
   "metadata": {},
   "source": [
    "#### Remove every element in the following list from `set1` if they are present in the set. Print the remaining elements.\n",
    "\n",
    "```\n",
    "list_to_remove = [1, 9, 11, 19, 21, 29, 31, 39, 41, 49, 51, 59, 61, 69, 71, 79, 81, 89, 91, 99]\n",
    "```"
   ]
  },
  {
   "cell_type": "code",
   "execution_count": 29,
   "metadata": {},
   "outputs": [
    {
     "name": "stdout",
     "output_type": "stream",
     "text": [
      "{2, 3, 4, 5, 6, 7, 8, 10, 13, 15, 16, 18, 20, 22, 24, 25, 27, 28, 30, 32, 33, 35, 37, 38, 40, 43, 44, 45, 46, 47, 48, 50, 52, 53, 54, 56, 58, 60, 62, 64, 65, 66, 67, 68, 70, 72, 73, 75, 76, 77, 78, 80, 82, 83, 84, 85, 87, 88, 92, 93, 95, 97, 98}\n"
     ]
    }
   ],
   "source": [
    "# Your code here\n",
    "list_to_remove = [1, 9, 11, 19, 21, 29, 31, 39, 41, 49, 51, 59, 61, 69, 71, 79, 81, 89, 91, 99]\n",
    "\n",
    "for element in list_to_remove:\n",
    "    if element in set1:\n",
    "        set1.remove(element)\n",
    "\n",
    "print(set1)"
   ]
  },
  {
   "cell_type": "markdown",
   "metadata": {},
   "source": [
    "## BONUS - Challenge 3: Dictionaries\n",
    "\n",
    "In this challenge you will practice how to manipulate Python dictionaries. Before starting on this challenge, you are encouraged to review W3School's [Python Dictionary Examples and Methods](https://www.w3schools.com/python/python_dictionaries.asp).\n",
    "\n",
    "First thing you will practice is how to sort the keys in a dictionary. Unlike the list object, Python dictionary does not have a built-in *sort* method. You'll need to use FOR loops to to sort dictionaries either by key or by value.\n",
    "\n",
    "The dictionary below is a summary of the word frequency of Ed Sheeran's song *Shape of You*. Each key is a word in the lyrics and the value is the number of times that word appears in the lyrics."
   ]
  },
  {
   "cell_type": "code",
   "execution_count": 30,
   "metadata": {},
   "outputs": [],
   "source": [
    "word_freq = {'love': 25, 'conversation': 1, 'every': 6, \"we're\": 1, 'plate': 1, 'sour': 1, 'jukebox': 1, 'now': 11, 'taxi': 1, 'fast': 1, 'bag': 1, 'man': 1, 'push': 3, 'baby': 14, 'going': 1, 'you': 16, \"don't\": 2, 'one': 1, 'mind': 2, 'backseat': 1, 'friends': 1, 'then': 3, 'know': 2, 'take': 1, 'play': 1, 'okay': 1, 'so': 2, 'begin': 1, 'start': 2, 'over': 1, 'body': 17, 'boy': 2, 'just': 1, 'we': 7, 'are': 1, 'girl': 2, 'tell': 1, 'singing': 2, 'drinking': 1, 'put': 3, 'our': 1, 'where': 1, \"i'll\": 1, 'all': 1, \"isn't\": 1, 'make': 1, 'lover': 1, 'get': 1, 'radio': 1, 'give': 1, \"i'm\": 23, 'like': 10, 'can': 1, 'doing': 2, 'with': 22, 'club': 1, 'come': 37, 'it': 1, 'somebody': 2, 'handmade': 2, 'out': 1, 'new': 6, 'room': 3, 'chance': 1, 'follow': 6, 'in': 27, 'may': 2, 'brand': 6, 'that': 2, 'magnet': 3, 'up': 3, 'first': 1, 'and': 23, 'pull': 3, 'of': 6, 'table': 1, 'much': 2, 'last': 3, 'i': 6, 'thrifty': 1, 'grab': 2, 'was': 2, 'driver': 1, 'slow': 1, 'dance': 1, 'the': 18, 'say': 2, 'trust': 1, 'family': 1, 'week': 1, 'date': 1, 'me': 10, 'do': 3, 'waist': 2, 'smell': 3, 'day': 6, 'although': 3, 'your': 21, 'leave': 1, 'want': 2, \"let's\": 2, 'lead': 6, 'at': 1, 'hand': 1, 'how': 1, 'talk': 4, 'not': 2, 'eat': 1, 'falling': 3, 'about': 1, 'story': 1, 'sweet': 1, 'best': 1, 'crazy': 2, 'let': 1, 'too': 5, 'van': 1, 'shots': 1, 'go': 2, 'to': 2, 'a': 8, 'my': 33, 'is': 5, 'place': 1, 'find': 1, 'shape': 6, 'on': 40, 'kiss': 1, 'were': 3, 'night': 3, 'heart': 3, 'for': 3, 'discovering': 6, 'something': 6, 'be': 16, 'bedsheets': 3, 'fill': 2, 'hours': 2, 'stop': 1, 'bar': 1}"
   ]
  },
  {
   "cell_type": "markdown",
   "metadata": {},
   "source": [
    "#### Sort the keys of `word_freq` ascendingly.\n",
    "\n",
    "Please create a new dictionary called `word_freq2` based on `word_freq` with the keys sorted ascedingly.\n",
    "\n",
    "There are several ways to achieve that goal but many of the ways are beyond what we have covered so far in the course. There is one way that we'll describe employing what you have learned. Please feel free to use this way or any other way you want.\n",
    "\n",
    "1. First extract the keys of `word_freq` and convert it to a list called `keys`.\n",
    "\n",
    "1. Sort the `keys` list.\n",
    "\n",
    "1. Create an empty dictionary `word_freq2`.\n",
    "\n",
    "1. Use a FOR loop to iterate each value in `keys`. For each key iterated, find the corresponding value in `word_freq` and insert the key-value pair to `word_freq2`.\n",
    "\n",
    "📖 [Documentation for a for loop](https://docs.python.org/3/reference/compound_stmts.html#for)\n",
    "\n",
    "Print out `word_freq2` to examine its keys and values. Your output should be:\n",
    "\n",
    "```python\n",
    "{'a': 8, 'about': 1, 'all': 1, 'although': 3, 'and': 23, 'are': 1, 'at': 1, 'baby': 14, 'backseat': 1, 'bag': 1, 'bar': 1, 'be': 16, 'bedsheets': 3, 'begin': 1, 'best': 1, 'body': 17, 'boy': 2, 'brand': 6, 'can': 1, 'chance': 1, 'club': 1, 'come': 37, 'conversation': 1, 'crazy': 2, 'dance': 1, 'date': 1, 'day': 6, 'discovering': 6, 'do': 3, 'doing': 2, \"don't\": 2, 'drinking': 1, 'driver': 1, 'eat': 1, 'every': 6, 'falling': 3, 'family': 1, 'fast': 1, 'fill': 2, 'find': 1, 'first': 1, 'follow': 6, 'for': 3, 'friends': 1, 'get': 1, 'girl': 2, 'give': 1, 'go': 2, 'going': 1, 'grab': 2, 'hand': 1, 'handmade': 2, 'heart': 3, 'hours': 2, 'how': 1, 'i': 6, \"i'll\": 1, \"i'm\": 23, 'in': 27, 'is': 5, \"isn't\": 1, 'it': 1, 'jukebox': 1, 'just': 1, 'kiss': 1, 'know': 2, 'last': 3, 'lead': 6, 'leave': 1, 'let': 1, \"let's\": 2, 'like': 10, 'love': 25, 'lover': 1, 'magnet': 3, 'make': 1, 'man': 1, 'may': 2, 'me': 10, 'mind': 2, 'much': 2, 'my': 33, 'new': 6, 'night': 3, 'not': 2, 'now': 11, 'of': 6, 'okay': 1, 'on': 40, 'one': 1, 'our': 1, 'out': 1, 'over': 1, 'place': 1, 'plate': 1, 'play': 1, 'pull': 3, 'push': 3, 'put': 3, 'radio': 1, 'room': 3, 'say': 2, 'shape': 6, 'shots': 1, 'singing': 2, 'slow': 1, 'smell': 3, 'so': 2, 'somebody': 2, 'something': 6, 'sour': 1, 'start': 2, 'stop': 1, 'story': 1, 'sweet': 1, 'table': 1, 'take': 1, 'talk': 4, 'taxi': 1, 'tell': 1, 'that': 2, 'the': 18, 'then': 3, 'thrifty': 1, 'to': 2, 'too': 5, 'trust': 1, 'up': 3, 'van': 1, 'waist': 2, 'want': 2, 'was': 2, 'we': 7, \"we're\": 1, 'week': 1, 'were': 3, 'where': 1, 'with': 22, 'you': 16, 'your': 21}\n",
    "```"
   ]
  },
  {
   "cell_type": "code",
   "execution_count": 33,
   "metadata": {},
   "outputs": [
    {
     "data": {
      "text/plain": [
       "{'a': 8,\n",
       " 'about': 1,\n",
       " 'all': 1,\n",
       " 'although': 3,\n",
       " 'and': 23,\n",
       " 'are': 1,\n",
       " 'at': 1,\n",
       " 'baby': 14,\n",
       " 'backseat': 1,\n",
       " 'bag': 1,\n",
       " 'bar': 1,\n",
       " 'be': 16,\n",
       " 'bedsheets': 3,\n",
       " 'begin': 1,\n",
       " 'best': 1,\n",
       " 'body': 17,\n",
       " 'boy': 2,\n",
       " 'brand': 6,\n",
       " 'can': 1,\n",
       " 'chance': 1,\n",
       " 'club': 1,\n",
       " 'come': 37,\n",
       " 'conversation': 1,\n",
       " 'crazy': 2,\n",
       " 'dance': 1,\n",
       " 'date': 1,\n",
       " 'day': 6,\n",
       " 'discovering': 6,\n",
       " 'do': 3,\n",
       " 'doing': 2,\n",
       " \"don't\": 2,\n",
       " 'drinking': 1,\n",
       " 'driver': 1,\n",
       " 'eat': 1,\n",
       " 'every': 6,\n",
       " 'falling': 3,\n",
       " 'family': 1,\n",
       " 'fast': 1,\n",
       " 'fill': 2,\n",
       " 'find': 1,\n",
       " 'first': 1,\n",
       " 'follow': 6,\n",
       " 'for': 3,\n",
       " 'friends': 1,\n",
       " 'get': 1,\n",
       " 'girl': 2,\n",
       " 'give': 1,\n",
       " 'go': 2,\n",
       " 'going': 1,\n",
       " 'grab': 2,\n",
       " 'hand': 1,\n",
       " 'handmade': 2,\n",
       " 'heart': 3,\n",
       " 'hours': 2,\n",
       " 'how': 1,\n",
       " 'i': 6,\n",
       " \"i'll\": 1,\n",
       " \"i'm\": 23,\n",
       " 'in': 27,\n",
       " 'is': 5,\n",
       " \"isn't\": 1,\n",
       " 'it': 1,\n",
       " 'jukebox': 1,\n",
       " 'just': 1,\n",
       " 'kiss': 1,\n",
       " 'know': 2,\n",
       " 'last': 3,\n",
       " 'lead': 6,\n",
       " 'leave': 1,\n",
       " 'let': 1,\n",
       " \"let's\": 2,\n",
       " 'like': 10,\n",
       " 'love': 25,\n",
       " 'lover': 1,\n",
       " 'magnet': 3,\n",
       " 'make': 1,\n",
       " 'man': 1,\n",
       " 'may': 2,\n",
       " 'me': 10,\n",
       " 'mind': 2,\n",
       " 'much': 2,\n",
       " 'my': 33,\n",
       " 'new': 6,\n",
       " 'night': 3,\n",
       " 'not': 2,\n",
       " 'now': 11,\n",
       " 'of': 6,\n",
       " 'okay': 1,\n",
       " 'on': 40,\n",
       " 'one': 1,\n",
       " 'our': 1,\n",
       " 'out': 1,\n",
       " 'over': 1,\n",
       " 'place': 1,\n",
       " 'plate': 1,\n",
       " 'play': 1,\n",
       " 'pull': 3,\n",
       " 'push': 3,\n",
       " 'put': 3,\n",
       " 'radio': 1,\n",
       " 'room': 3,\n",
       " 'say': 2,\n",
       " 'shape': 6,\n",
       " 'shots': 1,\n",
       " 'singing': 2,\n",
       " 'slow': 1,\n",
       " 'smell': 3,\n",
       " 'so': 2,\n",
       " 'somebody': 2,\n",
       " 'something': 6,\n",
       " 'sour': 1,\n",
       " 'start': 2,\n",
       " 'stop': 1,\n",
       " 'story': 1,\n",
       " 'sweet': 1,\n",
       " 'table': 1,\n",
       " 'take': 1,\n",
       " 'talk': 4,\n",
       " 'taxi': 1,\n",
       " 'tell': 1,\n",
       " 'that': 2,\n",
       " 'the': 18,\n",
       " 'then': 3,\n",
       " 'thrifty': 1,\n",
       " 'to': 2,\n",
       " 'too': 5,\n",
       " 'trust': 1,\n",
       " 'up': 3,\n",
       " 'van': 1,\n",
       " 'waist': 2,\n",
       " 'want': 2,\n",
       " 'was': 2,\n",
       " 'we': 7,\n",
       " \"we're\": 1,\n",
       " 'week': 1,\n",
       " 'were': 3,\n",
       " 'where': 1,\n",
       " 'with': 22,\n",
       " 'you': 16,\n",
       " 'your': 21}"
      ]
     },
     "execution_count": 33,
     "metadata": {},
     "output_type": "execute_result"
    }
   ],
   "source": [
    "# Your code here\n",
    "keys = list(word_freq.keys())\n",
    "keys.sort()\n",
    "\n",
    "word_freq2 = {}\n",
    "for key in keys:\n",
    "    word_freq2[key] = word_freq[key]\n",
    "\n",
    "word_freq2"
   ]
  },
  {
   "cell_type": "markdown",
   "metadata": {},
   "source": [
    "#### Sort the values of `word_freq` ascendingly.\n",
    "\n",
    "Sorting the values of a dictionary is more tricky than sorting the keys because a dictionary's values are not unique. Therefore you cannot use the same way you sorted dict keys to sort dict values.\n",
    "\n",
    "The way to sort a dict by value is to utilize the `sorted` and `operator.itemgetter` functions. The following code snippet is provided to you to try. It will give you a list of tuples in which each tuple contains the key and value of a dict item. And the list is sorted based on the dict value ( [reference](http://thomas-cokelaer.info/blog/2017/12/how-to-sort-a-dictionary-by-values-in-python/)\n",
    ").\n",
    "\n",
    "```python\n",
    "import operator\n",
    "sorted_tups = sorted(word_freq.items(), key=operator.itemgetter(1))\n",
    "print(sorted_tups)\n",
    "```\n",
    "\n",
    "Therefore, the steps to sort `word_freq` by value are:\n",
    "\n",
    "* Using `sorted` and `operator.itemgetter`, obtain a list of tuples of the dict key-value pairs which is sorted on the value.\n",
    "\n",
    "* Create an empty dictionary named `word_freq2`.\n",
    "\n",
    "* Iterate the list of tuples. Insert each key-value pair into `word_freq2` as an object.\n",
    "\n",
    "Print `word_freq2` to confirm your dictionary has its values sorted. Your output should be:\n",
    "\n",
    "```python\n",
    "{'conversation': 1, \"we're\": 1, 'plate': 1, 'sour': 1, 'jukebox': 1, 'taxi': 1, 'fast': 1, 'bag': 1, 'man': 1, 'going': 1, 'one': 1, 'backseat': 1, 'friends': 1, 'take': 1, 'play': 1, 'okay': 1, 'begin': 1, 'over': 1, 'just': 1, 'are': 1, 'tell': 1, 'drinking': 1, 'our': 1, 'where': 1, \"i'll\": 1, 'all': 1, \"isn't\": 1, 'make': 1, 'lover': 1, 'get': 1, 'radio': 1, 'give': 1, 'can': 1, 'club': 1, 'it': 1, 'out': 1, 'chance': 1, 'first': 1, 'table': 1, 'thrifty': 1, 'driver': 1, 'slow': 1, 'dance': 1, 'trust': 1, 'family': 1, 'week': 1, 'date': 1, 'leave': 1, 'at': 1, 'hand': 1, 'how': 1, 'eat': 1, 'about': 1, 'story': 1, 'sweet': 1, 'best': 1, 'let': 1, 'van': 1, 'shots': 1, 'place': 1, 'find': 1, 'kiss': 1, 'stop': 1, 'bar': 1, \"don't\": 2, 'mind': 2, 'know': 2, 'so': 2, 'start': 2, 'boy': 2, 'girl': 2, 'singing': 2, 'doing': 2, 'somebody': 2, 'handmade': 2, 'may': 2, 'that': 2, 'much': 2, 'grab': 2, 'was': 2, 'say': 2, 'waist': 2, 'want': 2, \"let's\": 2, 'not': 2, 'crazy': 2, 'go': 2, 'to': 2, 'fill': 2, 'hours': 2, 'push': 3, 'then': 3, 'put': 3, 'room': 3, 'magnet': 3, 'up': 3, 'pull': 3, 'last': 3, 'do': 3, 'smell': 3, 'although': 3, 'falling': 3, 'were': 3, 'night': 3, 'heart': 3, 'for': 3, 'bedsheets': 3, 'talk': 4, 'too': 5, 'is': 5, 'every': 6, 'new': 6, 'follow': 6, 'brand': 6, 'of': 6, 'i': 6, 'day': 6, 'lead': 6, 'shape': 6, 'discovering': 6, 'something': 6, 'we': 7, 'a': 8, 'like': 10, 'me': 10, 'now': 11, 'baby': 14, 'you': 16, 'be': 16, 'body': 17, 'the': 18, 'your': 21, 'with': 22, \"i'm\": 23, 'and': 23, 'love': 25, 'in': 27, 'my': 33, 'come': 37, 'on': 40}\n",
    "```"
   ]
  },
  {
   "cell_type": "code",
   "execution_count": 34,
   "metadata": {},
   "outputs": [
    {
     "data": {
      "text/plain": [
       "{'conversation': 1,\n",
       " \"we're\": 1,\n",
       " 'plate': 1,\n",
       " 'sour': 1,\n",
       " 'jukebox': 1,\n",
       " 'taxi': 1,\n",
       " 'fast': 1,\n",
       " 'bag': 1,\n",
       " 'man': 1,\n",
       " 'going': 1,\n",
       " 'one': 1,\n",
       " 'backseat': 1,\n",
       " 'friends': 1,\n",
       " 'take': 1,\n",
       " 'play': 1,\n",
       " 'okay': 1,\n",
       " 'begin': 1,\n",
       " 'over': 1,\n",
       " 'just': 1,\n",
       " 'are': 1,\n",
       " 'tell': 1,\n",
       " 'drinking': 1,\n",
       " 'our': 1,\n",
       " 'where': 1,\n",
       " \"i'll\": 1,\n",
       " 'all': 1,\n",
       " \"isn't\": 1,\n",
       " 'make': 1,\n",
       " 'lover': 1,\n",
       " 'get': 1,\n",
       " 'radio': 1,\n",
       " 'give': 1,\n",
       " 'can': 1,\n",
       " 'club': 1,\n",
       " 'it': 1,\n",
       " 'out': 1,\n",
       " 'chance': 1,\n",
       " 'first': 1,\n",
       " 'table': 1,\n",
       " 'thrifty': 1,\n",
       " 'driver': 1,\n",
       " 'slow': 1,\n",
       " 'dance': 1,\n",
       " 'trust': 1,\n",
       " 'family': 1,\n",
       " 'week': 1,\n",
       " 'date': 1,\n",
       " 'leave': 1,\n",
       " 'at': 1,\n",
       " 'hand': 1,\n",
       " 'how': 1,\n",
       " 'eat': 1,\n",
       " 'about': 1,\n",
       " 'story': 1,\n",
       " 'sweet': 1,\n",
       " 'best': 1,\n",
       " 'let': 1,\n",
       " 'van': 1,\n",
       " 'shots': 1,\n",
       " 'place': 1,\n",
       " 'find': 1,\n",
       " 'kiss': 1,\n",
       " 'stop': 1,\n",
       " 'bar': 1,\n",
       " \"don't\": 2,\n",
       " 'mind': 2,\n",
       " 'know': 2,\n",
       " 'so': 2,\n",
       " 'start': 2,\n",
       " 'boy': 2,\n",
       " 'girl': 2,\n",
       " 'singing': 2,\n",
       " 'doing': 2,\n",
       " 'somebody': 2,\n",
       " 'handmade': 2,\n",
       " 'may': 2,\n",
       " 'that': 2,\n",
       " 'much': 2,\n",
       " 'grab': 2,\n",
       " 'was': 2,\n",
       " 'say': 2,\n",
       " 'waist': 2,\n",
       " 'want': 2,\n",
       " \"let's\": 2,\n",
       " 'not': 2,\n",
       " 'crazy': 2,\n",
       " 'go': 2,\n",
       " 'to': 2,\n",
       " 'fill': 2,\n",
       " 'hours': 2,\n",
       " 'push': 3,\n",
       " 'then': 3,\n",
       " 'put': 3,\n",
       " 'room': 3,\n",
       " 'magnet': 3,\n",
       " 'up': 3,\n",
       " 'pull': 3,\n",
       " 'last': 3,\n",
       " 'do': 3,\n",
       " 'smell': 3,\n",
       " 'although': 3,\n",
       " 'falling': 3,\n",
       " 'were': 3,\n",
       " 'night': 3,\n",
       " 'heart': 3,\n",
       " 'for': 3,\n",
       " 'bedsheets': 3,\n",
       " 'talk': 4,\n",
       " 'too': 5,\n",
       " 'is': 5,\n",
       " 'every': 6,\n",
       " 'new': 6,\n",
       " 'follow': 6,\n",
       " 'brand': 6,\n",
       " 'of': 6,\n",
       " 'i': 6,\n",
       " 'day': 6,\n",
       " 'lead': 6,\n",
       " 'shape': 6,\n",
       " 'discovering': 6,\n",
       " 'something': 6,\n",
       " 'we': 7,\n",
       " 'a': 8,\n",
       " 'like': 10,\n",
       " 'me': 10,\n",
       " 'now': 11,\n",
       " 'baby': 14,\n",
       " 'you': 16,\n",
       " 'be': 16,\n",
       " 'body': 17,\n",
       " 'the': 18,\n",
       " 'your': 21,\n",
       " 'with': 22,\n",
       " \"i'm\": 23,\n",
       " 'and': 23,\n",
       " 'love': 25,\n",
       " 'in': 27,\n",
       " 'my': 33,\n",
       " 'come': 37,\n",
       " 'on': 40}"
      ]
     },
     "execution_count": 34,
     "metadata": {},
     "output_type": "execute_result"
    }
   ],
   "source": [
    "# Your code here\n",
    "import operator\n",
    "sorted_tups = sorted(word_freq.items(), key=operator.itemgetter(1))\n",
    "word_freq2 = {}\n",
    "for item in sorted_tups:\n",
    "    word_freq2[item.__getitem__(0)]=item.__getitem__(1)\n",
    "word_freq2"
   ]
  },
  {
   "cell_type": "code",
   "execution_count": null,
   "metadata": {},
   "outputs": [],
   "source": []
  }
 ],
 "metadata": {
  "kernelspec": {
   "display_name": "Python 3 (ipykernel)",
   "language": "python",
   "name": "python3"
  },
  "language_info": {
   "codemirror_mode": {
    "name": "ipython",
    "version": 3
   },
   "file_extension": ".py",
   "mimetype": "text/x-python",
   "name": "python",
   "nbconvert_exporter": "python",
   "pygments_lexer": "ipython3",
   "version": "3.12.3"
  },
  "vscode": {
   "interpreter": {
    "hash": "aee8b7b246df8f9039afb4144a1f6fd8d2ca17a180786b69acc140d282b71a49"
   }
  }
 },
 "nbformat": 4,
 "nbformat_minor": 2
}
